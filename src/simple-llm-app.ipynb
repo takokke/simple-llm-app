{
 "cells": [
  {
   "cell_type": "code",
   "execution_count": 16,
   "id": "9b74f472-e14d-4a0e-b584-8cc2a8872f0b",
   "metadata": {},
   "outputs": [],
   "source": [
    "# LANGSMITH_TRACING=true\n",
    "# LANGSMITH_ENDPOINT=\"https://api.smith.langchain.com\"\n",
    "# LANGSMITH_API_KEY=\"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\"\n",
    "# LANGSMITH_PROJECT=\"pr-upbeat-zinc-5\"\n",
    "\n",
    "import getpass\n",
    "import os\n",
    "\n",
    "try:\n",
    "    # load environment variables from .env file (requires `python-dotenv`)\n",
    "    from dotenv import load_dotenv\n",
    "\n",
    "    load_dotenv()\n",
    "except ImportError:\n",
    "    pass\n",
    "\n",
    "os.environ[\"LANGSMITH_TRACING\"] = \"true\"\n",
    "if \"LANGSMITH_API_KEY\" not in os.environ:\n",
    "    os.environ[\"LANGSMITH_API_KEY\"] = getpass.getpass(\n",
    "        prompt=\"Enter your LangSmith API key (optional): \"\n",
    "    )\n",
    "if \"LANGSMITH_PROJECT\" not in os.environ:\n",
    "    os.environ[\"LANGSMITH_PROJECT\"] = getpass.getpass(\n",
    "        prompt='Enter your LangSmith Project Name (default = \"default\"): '\n",
    "    )\n",
    "    if not os.environ.get(\"LANGSMITH_PROJECT\"):\n",
    "        os.environ[\"LANGSMITH_PROJECT\"] = \"default\""
   ]
  },
  {
   "cell_type": "code",
   "execution_count": 17,
   "id": "c67c4174-de89-452a-89f6-d07a527c298f",
   "metadata": {},
   "outputs": [
    {
     "data": {
      "text/plain": [
       "'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'"
      ]
     },
     "execution_count": 17,
     "metadata": {},
     "output_type": "execute_result"
    }
   ],
   "source": [
    "# os.environ[\"LANGSMITH_PROJECT\"]\n",
    "os.environ[\"LANGSMITH_API_KEY\"]"
   ]
  },
  {
   "cell_type": "code",
   "execution_count": 1,
   "id": "cfa666fd-6985-43be-b3df-7bffdf464f36",
   "metadata": {},
   "outputs": [
    {
     "name": "stdin",
     "output_type": "stream",
     "text": [
      "Enter API key for Azure:  ········\n"
     ]
    }
   ],
   "source": [
    "import getpass\n",
    "import os\n",
    "\n",
    "if not os.environ.get(\"AZURE_OPENAI_API_KEY\"):\n",
    "  os.environ[\"AZURE_OPENAI_API_KEY\"] = getpass.getpass(\"Enter API key for Azure: \")\n",
    "\n",
    "from langchain_openai import AzureChatOpenAI\n",
    "\n",
    "model = AzureChatOpenAI(\n",
    "    azure_endpoint=\"https://langchain-tutorial-0415.openai.azure.com/\",\n",
    "    azure_deployment=\"o3-mini\",\n",
    "    openai_api_version=\"2024-12-01-preview\",\n",
    ")"
   ]
  },
  {
   "cell_type": "code",
   "execution_count": 5,
   "id": "ea068b50-241b-4ae0-9d70-31f013fc8016",
   "metadata": {},
   "outputs": [
    {
     "data": {
      "text/plain": [
       "AIMessage(content='「hi!」は日本語で「こんにちは！」と訳せます。', additional_kwargs={'refusal': None}, response_metadata={'token_usage': {'completion_tokens': 219, 'prompt_tokens': 22, 'total_tokens': 241, 'completion_tokens_details': {'accepted_prediction_tokens': 0, 'audio_tokens': 0, 'reasoning_tokens': 192, 'rejected_prediction_tokens': 0}, 'prompt_tokens_details': {'audio_tokens': 0, 'cached_tokens': 0}}, 'model_name': 'o3-mini-2025-01-31', 'system_fingerprint': 'fp_ded0d14823', 'id': 'chatcmpl-BMR412g1ZTWHJSopqKKfT4EPCf8r8', 'prompt_filter_results': [{'prompt_index': 0, 'content_filter_results': {'hate': {'filtered': False, 'severity': 'safe'}, 'jailbreak': {'filtered': False, 'detected': False}, 'self_harm': {'filtered': False, 'severity': 'safe'}, 'sexual': {'filtered': False, 'severity': 'safe'}, 'violence': {'filtered': False, 'severity': 'safe'}}}], 'finish_reason': 'stop', 'logprobs': None, 'content_filter_results': {'hate': {'filtered': False, 'severity': 'safe'}, 'self_harm': {'filtered': False, 'severity': 'safe'}, 'sexual': {'filtered': False, 'severity': 'safe'}, 'violence': {'filtered': False, 'severity': 'safe'}}}, id='run-b9f5b308-300a-4769-97c7-a41536c0f780-0', usage_metadata={'input_tokens': 22, 'output_tokens': 219, 'total_tokens': 241, 'input_token_details': {'audio': 0, 'cache_read': 0}, 'output_token_details': {'audio': 0, 'reasoning': 192}})"
      ]
     },
     "execution_count": 5,
     "metadata": {},
     "output_type": "execute_result"
    }
   ],
   "source": [
    "from langchain_core.messages import HumanMessage, SystemMessage\n",
    "\n",
    "messages = [\n",
    "    SystemMessage(\"英語から日本語に翻訳してよ\"),\n",
    "    HumanMessage(\"hi!\"),\n",
    "]\n",
    "\n",
    "model.invoke(messages)"
   ]
  },
  {
   "cell_type": "code",
   "execution_count": 7,
   "id": "a9090d91-4277-4266-91a2-c37e0312edd7",
   "metadata": {},
   "outputs": [
    {
     "data": {
      "text/plain": [
       "AIMessage(content='Hello there! How can I assist you today?', additional_kwargs={'refusal': None}, response_metadata={'token_usage': {'completion_tokens': 85, 'prompt_tokens': 7, 'total_tokens': 92, 'completion_tokens_details': {'accepted_prediction_tokens': 0, 'audio_tokens': 0, 'reasoning_tokens': 64, 'rejected_prediction_tokens': 0}, 'prompt_tokens_details': {'audio_tokens': 0, 'cached_tokens': 0}}, 'model_name': 'o3-mini-2025-01-31', 'system_fingerprint': 'fp_ded0d14823', 'id': 'chatcmpl-BMR8cYZOGIbBa0yplshdQZQZKHOqG', 'prompt_filter_results': [{'prompt_index': 0, 'content_filter_results': {'hate': {'filtered': False, 'severity': 'safe'}, 'jailbreak': {'filtered': False, 'detected': False}, 'self_harm': {'filtered': False, 'severity': 'safe'}, 'sexual': {'filtered': False, 'severity': 'safe'}, 'violence': {'filtered': False, 'severity': 'safe'}}}], 'finish_reason': 'stop', 'logprobs': None, 'content_filter_results': {'hate': {'filtered': False, 'severity': 'safe'}, 'protected_material_code': {'filtered': False, 'detected': False}, 'protected_material_text': {'filtered': False, 'detected': False}, 'self_harm': {'filtered': False, 'severity': 'safe'}, 'sexual': {'filtered': False, 'severity': 'safe'}, 'violence': {'filtered': False, 'severity': 'safe'}}}, id='run-14947b4a-509a-44cc-ab00-6dbef74ff524-0', usage_metadata={'input_tokens': 7, 'output_tokens': 85, 'total_tokens': 92, 'input_token_details': {'audio': 0, 'cache_read': 0}, 'output_token_details': {'audio': 0, 'reasoning': 64}})"
      ]
     },
     "execution_count": 7,
     "metadata": {},
     "output_type": "execute_result"
    }
   ],
   "source": [
    "model.invoke(\"Hello\")\n",
    "\n",
    "model.invoke([{\"role\": \"user\", \"content\": \"Hello\"}])\n",
    "\n",
    "model.invoke([HumanMessage(\"Hello\")])"
   ]
  },
  {
   "cell_type": "code",
   "execution_count": 9,
   "id": "20a92960-e851-4125-89dc-a8494b33d31b",
   "metadata": {},
   "outputs": [
    {
     "name": "stdout",
     "output_type": "stream",
     "text": [
      "ここでご紹介するのは、一般に「環太平洋大学（IPU）」として知られる大学についての情報です。ただし、大学の名称や特色は時期や情報源により変わる可能性がありますので、より正確な最新情報は公式ウェブサイトなどでご確認いただくことをおすすめします。\n",
      "\n",
      "【環太平洋大学(IPU)の主な特徴】\n",
      "\n",
      "1. 目的と理念  \n",
      " ・環太平洋大学は、グローバルな視野を持った人材育成を目指し、国際社会で活躍できる人々の育成を理念としています。  \n",
      " ・多文化理解や国際交流を積極的に取り入れ、実践力や柔軟な思考を養う授業・プログラムを展開しています。\n",
      "\n",
      "2. 教育プログラムと学部構成  \n",
      " ・学部・学科は、国際関係、ビジネス、言語、文化、情報など多岐にわたる分野で構成されていることが多いです。  \n",
      " ・カリキュラムの中には、海外留学プログラムや海外研修、国際インターンシップなど、実社会との連携を意識したプログラムが含まれている場合もあります。\n",
      "\n",
      "3. 国際交流・地域連携  \n",
      " ・海外の大学との学術交流や提携プログラムを通して、留学生の受け入れや自校学生の海外派遣を積極的に行っています。  \n",
      " ・地域社会との連携や共同研究、課題解決型のプロジェクトが行われ、学内外での実践的な経験を重視しています。\n",
      "\n",
      "4. キャンパス環境と学生生活  \n",
      " ・設備が整った学習環境や図書館、ラボ、各種サポート施設など、学生が充実したキャンパスライフを送るための環境が提供されています。  \n",
      " ・クラブ活動やサークル、イベントなどを通して、国内外の学生が交流しながら多様な経験を積むことができる仕組みが整っています。\n",
      "\n",
      "5. キャリア支援と卒業後の展望  \n",
      " ・各種就職サポートやキャリアカウンセリングが用意されており、グローバルなフィールドで活躍するためのアドバイスが受けられます。  \n",
      " ・卒業生は、企業や公的機関、国際機関、NPOなど多様な分野で活躍しており、実践的な教育の成果が反映されています。\n",
      "\n",
      "【注意点】  \n",
      "・上記は環太平洋大学の一般的な特徴をまとめたものであり、正確な学部構成、具体的なプログラム内容、入学条件などは各年度・キャンパスごとに異なることがあります。  \n",
      "・ご興味がおありの場合は、大学の公式サイトやオープンキャンパス、説明会などで最新情報をご確認ください。\n",
      "\n",
      "このように、環太平洋大学(IPU)は国際性を重視し、グローバルな人材として成長できる環境作りに力を入れている大学です。詳細な情報をお求めの場合は、ぜひ公式情報や資料などをご参照ください。\n"
     ]
    }
   ],
   "source": [
    "a = model.invoke(\"IPU環太平洋大学について教えて\")\n",
    "print(a.content)"
   ]
  },
  {
   "cell_type": "code",
   "execution_count": 10,
   "id": "21595449-7e73-43b8-a4d7-3da15a7652fe",
   "metadata": {},
   "outputs": [
    {
     "name": "stdout",
     "output_type": "stream",
     "text": [
      "||「|hi|!|」|は|日本|語|で|「|こんにちは|！」|とな|ります|。||"
     ]
    }
   ],
   "source": [
    "for token in model.stream(messages):\n",
    "    print(token.content, end=\"|\")"
   ]
  },
  {
   "cell_type": "code",
   "execution_count": 12,
   "id": "7953fb2a-081b-4367-88e2-a0738ab6168e",
   "metadata": {},
   "outputs": [
    {
     "data": {
      "text/plain": [
       "ChatPromptValue(messages=[SystemMessage(content='以下の英語を日本語に翻訳してください', additional_kwargs={}, response_metadata={}), HumanMessage(content='hi!', additional_kwargs={}, response_metadata={})])"
      ]
     },
     "execution_count": 12,
     "metadata": {},
     "output_type": "execute_result"
    }
   ],
   "source": [
    "from langchain_core.prompts import ChatPromptTemplate\n",
    "\n",
    "system_template = \"以下の英語を{language}に翻訳してください\"\n",
    "\n",
    "prompt_template = ChatPromptTemplate.from_messages(\n",
    "\n",
    "[(\"system\", system_template), (\"user\", \"{text}\")]\n",
    "\n",
    ")\n",
    "\n",
    "prompt = prompt_template.invoke({\"language\": \"日本語\", \"text\": \"hi!\"})\n",
    "\n",
    "prompt"
   ]
  },
  {
   "cell_type": "code",
   "execution_count": 13,
   "id": "f1df49c6-daaa-4b55-813d-d3f8af7e95f1",
   "metadata": {},
   "outputs": [
    {
     "data": {
      "text/plain": [
       "[SystemMessage(content='以下の英語を日本語に翻訳してください', additional_kwargs={}, response_metadata={}),\n",
       " HumanMessage(content='hi!', additional_kwargs={}, response_metadata={})]"
      ]
     },
     "execution_count": 13,
     "metadata": {},
     "output_type": "execute_result"
    }
   ],
   "source": [
    "prompt.to_messages()"
   ]
  },
  {
   "cell_type": "code",
   "execution_count": 14,
   "id": "21601ec2-f3c8-4c63-a5ab-45fe75795d8f",
   "metadata": {},
   "outputs": [
    {
     "name": "stdout",
     "output_type": "stream",
     "text": [
      "「hi!」は日本語で「こんにちは！」と訳されます。\n"
     ]
    }
   ],
   "source": [
    "res = model.invoke(prompt)\n",
    "print(res.content)"
   ]
  },
  {
   "cell_type": "code",
   "execution_count": null,
   "id": "9117263e-6786-4593-aa07-4949cc973e1b",
   "metadata": {},
   "outputs": [],
   "source": []
  }
 ],
 "metadata": {
  "kernelspec": {
   "display_name": "Python 3 (ipykernel)",
   "language": "python",
   "name": "python3"
  },
  "language_info": {
   "codemirror_mode": {
    "name": "ipython",
    "version": 3
   },
   "file_extension": ".py",
   "mimetype": "text/x-python",
   "name": "python",
   "nbconvert_exporter": "python",
   "pygments_lexer": "ipython3",
   "version": "3.13.2"
  }
 },
 "nbformat": 4,
 "nbformat_minor": 5
}
